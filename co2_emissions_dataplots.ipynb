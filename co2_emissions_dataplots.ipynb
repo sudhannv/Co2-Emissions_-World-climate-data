{
 "cells": [
  {
   "cell_type": "code",
   "execution_count": 182,
   "id": "74ed2987-c23d-45d6-a146-34416e49139d",
   "metadata": {},
   "outputs": [],
   "source": [
    "import pandas as pd\n",
    "#import os\n",
    "import numpy as np\n",
    "import matplotlib.pyplot as plt\n",
    "import datetime as dt\n",
    "import seaborn as sns"
   ]
  },
  {
   "cell_type": "code",
   "execution_count": null,
   "id": "5016c0cf-c6b8-4af0-b2ef-89629f2d0b45",
   "metadata": {},
   "outputs": [
    {
     "name": "stdout",
     "output_type": "stream",
     "text": [
      "data\n",
      "data_country_wise\n"
     ]
    }
   ],
   "source": [
    "data=pd.read_csv(r'D:\\Sudha\\InSaid_Project\\owid-co2-data.csv', index_col=0)\n",
    "print('data')"
   ]
  },
  {
   "cell_type": "code",
   "execution_count": 184,
   "id": "1f3141ff-bb7a-439a-89c8-770179eba4fa",
   "metadata": {},
   "outputs": [
    {
     "data": {
      "text/plain": [
       "Index(['country', 'year', 'co2', 'consumption_co2', 'co2_growth_prct',\n",
       "       'co2_growth_abs', 'trade_co2', 'co2_per_capita',\n",
       "       'consumption_co2_per_capita', 'share_global_co2', 'cumulative_co2',\n",
       "       'share_global_cumulative_co2', 'co2_per_gdp', 'consumption_co2_per_gdp',\n",
       "       'co2_per_unit_energy', 'coal_co2', 'cement_co2', 'flaring_co2',\n",
       "       'gas_co2', 'oil_co2', 'other_industry_co2', 'cement_co2_per_capita',\n",
       "       'coal_co2_per_capita', 'flaring_co2_per_capita', 'gas_co2_per_capita',\n",
       "       'oil_co2_per_capita', 'other_co2_per_capita', 'trade_co2_share',\n",
       "       'share_global_cement_co2', 'share_global_coal_co2',\n",
       "       'share_global_flaring_co2', 'share_global_gas_co2',\n",
       "       'share_global_oil_co2', 'share_global_other_co2',\n",
       "       'cumulative_cement_co2', 'cumulative_coal_co2',\n",
       "       'cumulative_flaring_co2', 'cumulative_gas_co2', 'cumulative_oil_co2',\n",
       "       'cumulative_other_co2', 'share_global_cumulative_cement_co2',\n",
       "       'share_global_cumulative_coal_co2',\n",
       "       'share_global_cumulative_flaring_co2',\n",
       "       'share_global_cumulative_gas_co2', 'share_global_cumulative_oil_co2',\n",
       "       'share_global_cumulative_other_co2', 'total_ghg', 'ghg_per_capita',\n",
       "       'methane', 'methane_per_capita', 'nitrous_oxide',\n",
       "       'nitrous_oxide_per_capita', 'population', 'gdp',\n",
       "       'primary_energy_consumption', 'energy_per_capita', 'energy_per_gdp'],\n",
       "      dtype='object')"
      ]
     },
     "execution_count": 184,
     "metadata": {},
     "output_type": "execute_result"
    }
   ],
   "source": [
    "data.columns"
   ]
  },
  {
   "cell_type": "code",
   "execution_count": 185,
   "id": "658fb35a-2aaa-4a54-bead-724574620bde",
   "metadata": {},
   "outputs": [
    {
     "data": {
      "text/plain": [
       "<bound method DataFrame.info of                   country  year     co2  consumption_co2  co2_growth_prct  \\\n",
       "country_code                                                                \n",
       "AFG           Afghanistan  1949   0.015              NaN              NaN   \n",
       "AFG           Afghanistan  1950   0.084              NaN           475.00   \n",
       "AFG           Afghanistan  1951   0.092              NaN             8.70   \n",
       "AFG           Afghanistan  1952   0.092              NaN             0.00   \n",
       "AFG           Afghanistan  1953   0.106              NaN            16.00   \n",
       "...                   ...   ...     ...              ...              ...   \n",
       "ZWE              Zimbabwe  2016  10.738           12.153           -12.17   \n",
       "ZWE              Zimbabwe  2017   9.582           11.248           -10.77   \n",
       "ZWE              Zimbabwe  2018  11.854           13.163            23.72   \n",
       "ZWE              Zimbabwe  2019  10.949           12.422            -7.64   \n",
       "ZWE              Zimbabwe  2020  10.531              NaN            -3.82   \n",
       "\n",
       "              co2_growth_abs  trade_co2  co2_per_capita  \\\n",
       "country_code                                              \n",
       "AFG                      NaN        NaN           0.002   \n",
       "AFG                    0.070        NaN           0.011   \n",
       "AFG                    0.007        NaN           0.012   \n",
       "AFG                    0.000        NaN           0.012   \n",
       "AFG                    0.015        NaN           0.013   \n",
       "...                      ...        ...             ...   \n",
       "ZWE                   -1.488      1.415           0.765   \n",
       "ZWE                   -1.156      1.666           0.673   \n",
       "ZWE                    2.273      1.308           0.821   \n",
       "ZWE                   -0.905      1.473           0.748   \n",
       "ZWE                   -0.418        NaN           0.709   \n",
       "\n",
       "              consumption_co2_per_capita  share_global_co2  ...  \\\n",
       "country_code                                                ...   \n",
       "AFG                                  NaN              0.00  ...   \n",
       "AFG                                  NaN              0.00  ...   \n",
       "AFG                                  NaN              0.00  ...   \n",
       "AFG                                  NaN              0.00  ...   \n",
       "AFG                                  NaN              0.00  ...   \n",
       "...                                  ...               ...  ...   \n",
       "ZWE                                0.866              0.03  ...   \n",
       "ZWE                                0.790              0.03  ...   \n",
       "ZWE                                0.912              0.03  ...   \n",
       "ZWE                                0.848              0.03  ...   \n",
       "ZWE                                  NaN              0.03  ...   \n",
       "\n",
       "              ghg_per_capita  methane  methane_per_capita  nitrous_oxide  \\\n",
       "country_code                                                               \n",
       "AFG                      NaN      NaN                 NaN            NaN   \n",
       "AFG                      NaN      NaN                 NaN            NaN   \n",
       "AFG                      NaN      NaN                 NaN            NaN   \n",
       "AFG                      NaN      NaN                 NaN            NaN   \n",
       "AFG                      NaN      NaN                 NaN            NaN   \n",
       "...                      ...      ...                 ...            ...   \n",
       "ZWE                    4.703    11.92                0.85           6.55   \n",
       "ZWE                      NaN      NaN                 NaN            NaN   \n",
       "ZWE                      NaN      NaN                 NaN            NaN   \n",
       "ZWE                      NaN      NaN                 NaN            NaN   \n",
       "ZWE                      NaN      NaN                 NaN            NaN   \n",
       "\n",
       "              nitrous_oxide_per_capita  population           gdp  \\\n",
       "country_code                                                       \n",
       "AFG                                NaN   7624058.0           NaN   \n",
       "AFG                                NaN   7752117.0  9.421400e+09   \n",
       "AFG                                NaN   7840151.0  9.692280e+09   \n",
       "AFG                                NaN   7935996.0  1.001732e+10   \n",
       "AFG                                NaN   8039684.0  1.063052e+10   \n",
       "...                                ...         ...           ...   \n",
       "ZWE                              0.467  14030338.0  2.096179e+10   \n",
       "ZWE                                NaN  14236599.0  2.194784e+10   \n",
       "ZWE                                NaN  14438812.0  2.271535e+10   \n",
       "ZWE                                NaN  14645473.0           NaN   \n",
       "ZWE                                NaN  14862927.0           NaN   \n",
       "\n",
       "              primary_energy_consumption  energy_per_capita  energy_per_gdp  \n",
       "country_code                                                                 \n",
       "AFG                                  NaN                NaN             NaN  \n",
       "AFG                                  NaN                NaN             NaN  \n",
       "AFG                                  NaN                NaN             NaN  \n",
       "AFG                                  NaN                NaN             NaN  \n",
       "AFG                                  NaN                NaN             NaN  \n",
       "...                                  ...                ...             ...  \n",
       "ZWE                                 47.5           3385.574           1.889  \n",
       "ZWE                                  NaN                NaN             NaN  \n",
       "ZWE                                  NaN                NaN             NaN  \n",
       "ZWE                                  NaN                NaN             NaN  \n",
       "ZWE                                  NaN                NaN             NaN  \n",
       "\n",
       "[25204 rows x 57 columns]>"
      ]
     },
     "execution_count": 185,
     "metadata": {},
     "output_type": "execute_result"
    }
   ],
   "source": [
    "data.info"
   ]
  },
  {
   "cell_type": "code",
   "execution_count": 186,
   "id": "29901fdb-d94f-41dd-a4d1-fc0354cc7b79",
   "metadata": {},
   "outputs": [
    {
     "data": {
      "text/plain": [
       "<bound method DataFrame.drop of                   country  year     co2  consumption_co2  co2_growth_prct  \\\n",
       "country_code                                                                \n",
       "AFG           Afghanistan  1949   0.015              NaN              NaN   \n",
       "AFG           Afghanistan  1950   0.084              NaN           475.00   \n",
       "AFG           Afghanistan  1951   0.092              NaN             8.70   \n",
       "AFG           Afghanistan  1952   0.092              NaN             0.00   \n",
       "AFG           Afghanistan  1953   0.106              NaN            16.00   \n",
       "...                   ...   ...     ...              ...              ...   \n",
       "ZWE              Zimbabwe  2016  10.738           12.153           -12.17   \n",
       "ZWE              Zimbabwe  2017   9.582           11.248           -10.77   \n",
       "ZWE              Zimbabwe  2018  11.854           13.163            23.72   \n",
       "ZWE              Zimbabwe  2019  10.949           12.422            -7.64   \n",
       "ZWE              Zimbabwe  2020  10.531              NaN            -3.82   \n",
       "\n",
       "              co2_growth_abs  trade_co2  co2_per_capita  \\\n",
       "country_code                                              \n",
       "AFG                      NaN        NaN           0.002   \n",
       "AFG                    0.070        NaN           0.011   \n",
       "AFG                    0.007        NaN           0.012   \n",
       "AFG                    0.000        NaN           0.012   \n",
       "AFG                    0.015        NaN           0.013   \n",
       "...                      ...        ...             ...   \n",
       "ZWE                   -1.488      1.415           0.765   \n",
       "ZWE                   -1.156      1.666           0.673   \n",
       "ZWE                    2.273      1.308           0.821   \n",
       "ZWE                   -0.905      1.473           0.748   \n",
       "ZWE                   -0.418        NaN           0.709   \n",
       "\n",
       "              consumption_co2_per_capita  share_global_co2  ...  \\\n",
       "country_code                                                ...   \n",
       "AFG                                  NaN              0.00  ...   \n",
       "AFG                                  NaN              0.00  ...   \n",
       "AFG                                  NaN              0.00  ...   \n",
       "AFG                                  NaN              0.00  ...   \n",
       "AFG                                  NaN              0.00  ...   \n",
       "...                                  ...               ...  ...   \n",
       "ZWE                                0.866              0.03  ...   \n",
       "ZWE                                0.790              0.03  ...   \n",
       "ZWE                                0.912              0.03  ...   \n",
       "ZWE                                0.848              0.03  ...   \n",
       "ZWE                                  NaN              0.03  ...   \n",
       "\n",
       "              share_global_cumulative_other_co2  total_ghg  ghg_per_capita  \\\n",
       "country_code                                                                 \n",
       "AFG                                         NaN        NaN             NaN   \n",
       "AFG                                         NaN        NaN             NaN   \n",
       "AFG                                         NaN        NaN             NaN   \n",
       "AFG                                         NaN        NaN             NaN   \n",
       "AFG                                         NaN        NaN             NaN   \n",
       "...                                         ...        ...             ...   \n",
       "ZWE                                         NaN      65.98           4.703   \n",
       "ZWE                                         NaN        NaN             NaN   \n",
       "ZWE                                         NaN        NaN             NaN   \n",
       "ZWE                                         NaN        NaN             NaN   \n",
       "ZWE                                         NaN        NaN             NaN   \n",
       "\n",
       "              methane  methane_per_capita  nitrous_oxide  \\\n",
       "country_code                                               \n",
       "AFG               NaN                 NaN            NaN   \n",
       "AFG               NaN                 NaN            NaN   \n",
       "AFG               NaN                 NaN            NaN   \n",
       "AFG               NaN                 NaN            NaN   \n",
       "AFG               NaN                 NaN            NaN   \n",
       "...               ...                 ...            ...   \n",
       "ZWE             11.92                0.85           6.55   \n",
       "ZWE               NaN                 NaN            NaN   \n",
       "ZWE               NaN                 NaN            NaN   \n",
       "ZWE               NaN                 NaN            NaN   \n",
       "ZWE               NaN                 NaN            NaN   \n",
       "\n",
       "              nitrous_oxide_per_capita  population           gdp  \\\n",
       "country_code                                                       \n",
       "AFG                                NaN   7624058.0           NaN   \n",
       "AFG                                NaN   7752117.0  9.421400e+09   \n",
       "AFG                                NaN   7840151.0  9.692280e+09   \n",
       "AFG                                NaN   7935996.0  1.001732e+10   \n",
       "AFG                                NaN   8039684.0  1.063052e+10   \n",
       "...                                ...         ...           ...   \n",
       "ZWE                              0.467  14030338.0  2.096179e+10   \n",
       "ZWE                                NaN  14236599.0  2.194784e+10   \n",
       "ZWE                                NaN  14438812.0  2.271535e+10   \n",
       "ZWE                                NaN  14645473.0           NaN   \n",
       "ZWE                                NaN  14862927.0           NaN   \n",
       "\n",
       "              energy_per_capita  \n",
       "country_code                     \n",
       "AFG                         NaN  \n",
       "AFG                         NaN  \n",
       "AFG                         NaN  \n",
       "AFG                         NaN  \n",
       "AFG                         NaN  \n",
       "...                         ...  \n",
       "ZWE                    3385.574  \n",
       "ZWE                         NaN  \n",
       "ZWE                         NaN  \n",
       "ZWE                         NaN  \n",
       "ZWE                         NaN  \n",
       "\n",
       "[25204 rows x 55 columns]>"
      ]
     },
     "execution_count": 186,
     "metadata": {},
     "output_type": "execute_result"
    }
   ],
   "source": [
    "data.drop('primary_energy_consumption',axis=1,inplace=True)\n",
    "data.drop('energy_per_gdp',axis=1,inplace=True)\n",
    "#data.drop('primary_energy_consumption, energy_per_gdp', axis=2,inplace=True)\n",
    "data.drop"
   ]
  },
  {
   "cell_type": "code",
   "execution_count": 187,
   "id": "8abee603-e72a-4415-8d5d-e7226e8f9559",
   "metadata": {},
   "outputs": [
    {
     "data": {
      "text/plain": [
       "<bound method DataFrame.info of                   country  year     co2  consumption_co2  co2_growth_prct  \\\n",
       "country_code                                                                \n",
       "AFG           Afghanistan  1949   0.015              NaN              NaN   \n",
       "AFG           Afghanistan  1950   0.084              NaN           475.00   \n",
       "AFG           Afghanistan  1951   0.092              NaN             8.70   \n",
       "AFG           Afghanistan  1952   0.092              NaN             0.00   \n",
       "AFG           Afghanistan  1953   0.106              NaN            16.00   \n",
       "...                   ...   ...     ...              ...              ...   \n",
       "ZWE              Zimbabwe  2016  10.738           12.153           -12.17   \n",
       "ZWE              Zimbabwe  2017   9.582           11.248           -10.77   \n",
       "ZWE              Zimbabwe  2018  11.854           13.163            23.72   \n",
       "ZWE              Zimbabwe  2019  10.949           12.422            -7.64   \n",
       "ZWE              Zimbabwe  2020  10.531              NaN            -3.82   \n",
       "\n",
       "              co2_growth_abs  trade_co2  co2_per_capita  \\\n",
       "country_code                                              \n",
       "AFG                      NaN        NaN           0.002   \n",
       "AFG                    0.070        NaN           0.011   \n",
       "AFG                    0.007        NaN           0.012   \n",
       "AFG                    0.000        NaN           0.012   \n",
       "AFG                    0.015        NaN           0.013   \n",
       "...                      ...        ...             ...   \n",
       "ZWE                   -1.488      1.415           0.765   \n",
       "ZWE                   -1.156      1.666           0.673   \n",
       "ZWE                    2.273      1.308           0.821   \n",
       "ZWE                   -0.905      1.473           0.748   \n",
       "ZWE                   -0.418        NaN           0.709   \n",
       "\n",
       "              consumption_co2_per_capita  share_global_co2  ...  \\\n",
       "country_code                                                ...   \n",
       "AFG                                  NaN              0.00  ...   \n",
       "AFG                                  NaN              0.00  ...   \n",
       "AFG                                  NaN              0.00  ...   \n",
       "AFG                                  NaN              0.00  ...   \n",
       "AFG                                  NaN              0.00  ...   \n",
       "...                                  ...               ...  ...   \n",
       "ZWE                                0.866              0.03  ...   \n",
       "ZWE                                0.790              0.03  ...   \n",
       "ZWE                                0.912              0.03  ...   \n",
       "ZWE                                0.848              0.03  ...   \n",
       "ZWE                                  NaN              0.03  ...   \n",
       "\n",
       "              share_global_cumulative_other_co2  total_ghg  ghg_per_capita  \\\n",
       "country_code                                                                 \n",
       "AFG                                         NaN        NaN             NaN   \n",
       "AFG                                         NaN        NaN             NaN   \n",
       "AFG                                         NaN        NaN             NaN   \n",
       "AFG                                         NaN        NaN             NaN   \n",
       "AFG                                         NaN        NaN             NaN   \n",
       "...                                         ...        ...             ...   \n",
       "ZWE                                         NaN      65.98           4.703   \n",
       "ZWE                                         NaN        NaN             NaN   \n",
       "ZWE                                         NaN        NaN             NaN   \n",
       "ZWE                                         NaN        NaN             NaN   \n",
       "ZWE                                         NaN        NaN             NaN   \n",
       "\n",
       "              methane  methane_per_capita  nitrous_oxide  \\\n",
       "country_code                                               \n",
       "AFG               NaN                 NaN            NaN   \n",
       "AFG               NaN                 NaN            NaN   \n",
       "AFG               NaN                 NaN            NaN   \n",
       "AFG               NaN                 NaN            NaN   \n",
       "AFG               NaN                 NaN            NaN   \n",
       "...               ...                 ...            ...   \n",
       "ZWE             11.92                0.85           6.55   \n",
       "ZWE               NaN                 NaN            NaN   \n",
       "ZWE               NaN                 NaN            NaN   \n",
       "ZWE               NaN                 NaN            NaN   \n",
       "ZWE               NaN                 NaN            NaN   \n",
       "\n",
       "              nitrous_oxide_per_capita  population           gdp  \\\n",
       "country_code                                                       \n",
       "AFG                                NaN   7624058.0           NaN   \n",
       "AFG                                NaN   7752117.0  9.421400e+09   \n",
       "AFG                                NaN   7840151.0  9.692280e+09   \n",
       "AFG                                NaN   7935996.0  1.001732e+10   \n",
       "AFG                                NaN   8039684.0  1.063052e+10   \n",
       "...                                ...         ...           ...   \n",
       "ZWE                              0.467  14030338.0  2.096179e+10   \n",
       "ZWE                                NaN  14236599.0  2.194784e+10   \n",
       "ZWE                                NaN  14438812.0  2.271535e+10   \n",
       "ZWE                                NaN  14645473.0           NaN   \n",
       "ZWE                                NaN  14862927.0           NaN   \n",
       "\n",
       "              energy_per_capita  \n",
       "country_code                     \n",
       "AFG                         NaN  \n",
       "AFG                         NaN  \n",
       "AFG                         NaN  \n",
       "AFG                         NaN  \n",
       "AFG                         NaN  \n",
       "...                         ...  \n",
       "ZWE                    3385.574  \n",
       "ZWE                         NaN  \n",
       "ZWE                         NaN  \n",
       "ZWE                         NaN  \n",
       "ZWE                         NaN  \n",
       "\n",
       "[25204 rows x 55 columns]>"
      ]
     },
     "execution_count": 187,
     "metadata": {},
     "output_type": "execute_result"
    }
   ],
   "source": [
    "data.info"
   ]
  },
  {
   "cell_type": "code",
   "execution_count": 188,
   "id": "3c070dbe-6310-4bf8-b8e5-e39e98115729",
   "metadata": {},
   "outputs": [
    {
     "data": {
      "text/plain": [
       "array(['Afghanistan', 'Africa', 'Albania', 'Algeria', 'Andorra', 'Angola',\n",
       "       'Anguilla', 'Antarctica', 'Antigua and Barbuda', 'Argentina',\n",
       "       'Armenia', 'Aruba', 'Asia', 'Asia (excl. China & India)',\n",
       "       'Australia', 'Austria', 'Azerbaijan', 'Bahamas', 'Bahrain',\n",
       "       'Bangladesh', 'Barbados', 'Belarus', 'Belgium', 'Belize', 'Benin',\n",
       "       'Bermuda', 'Bhutan', 'Bolivia', 'Bonaire Sint Eustatius and Saba',\n",
       "       'Bosnia and Herzegovina', 'Botswana', 'Brazil',\n",
       "       'British Virgin Islands', 'Brunei', 'Bulgaria', 'Burkina Faso',\n",
       "       'Burundi', 'Cambodia', 'Cameroon', 'Canada', 'Cape Verde',\n",
       "       'Central African Republic', 'Chad', 'Chile', 'China',\n",
       "       'Christmas Island', 'Colombia', 'Comoros', 'Congo', 'Cook Islands',\n",
       "       'Costa Rica', \"Cote d'Ivoire\", 'Croatia', 'Cuba', 'Curacao',\n",
       "       'Cyprus', 'Czechia', 'Democratic Republic of Congo', 'Denmark',\n",
       "       'Djibouti', 'Dominica', 'Dominican Republic', 'EU-27', 'EU-28',\n",
       "       'Ecuador', 'Egypt', 'El Salvador', 'Equatorial Guinea', 'Eritrea',\n",
       "       'Estonia', 'Eswatini', 'Ethiopia', 'Europe',\n",
       "       'Europe (excl. EU-27)', 'Europe (excl. EU-28)', 'Faeroe Islands',\n",
       "       'Fiji', 'Finland', 'France', 'French Equatorial Africa',\n",
       "       'French Guiana', 'French Polynesia', 'French West Africa', 'Gabon',\n",
       "       'Gambia', 'Georgia', 'Germany', 'Ghana', 'Greece', 'Greenland',\n",
       "       'Grenada', 'Guadeloupe', 'Guatemala', 'Guinea', 'Guinea-Bissau',\n",
       "       'Guyana', 'Haiti', 'Honduras', 'Hong Kong', 'Hungary', 'Iceland',\n",
       "       'India', 'Indonesia', 'International transport', 'Iran', 'Iraq',\n",
       "       'Ireland', 'Israel', 'Italy', 'Jamaica', 'Japan', 'Jordan',\n",
       "       'Kazakhstan', 'Kenya', 'Kiribati', 'Kosovo', 'Kuwait',\n",
       "       'Kuwaiti Oil Fires', 'Kyrgyzstan', 'Laos', 'Latvia', 'Lebanon',\n",
       "       'Leeward Islands', 'Lesotho', 'Liberia', 'Libya', 'Liechtenstein',\n",
       "       'Lithuania', 'Luxembourg', 'Macao', 'Madagascar', 'Malawi',\n",
       "       'Malaysia', 'Maldives', 'Mali', 'Malta', 'Marshall Islands',\n",
       "       'Martinique', 'Mauritania', 'Mauritius', 'Mayotte', 'Mexico',\n",
       "       'Micronesia', 'Micronesia (country)', 'Moldova', 'Mongolia',\n",
       "       'Montenegro', 'Montserrat', 'Morocco', 'Mozambique', 'Myanmar',\n",
       "       'Namibia', 'Nauru', 'Nepal', 'Netherlands', 'New Caledonia',\n",
       "       'New Zealand', 'Nicaragua', 'Niger', 'Nigeria', 'Niue',\n",
       "       'North America', 'North America (excl. USA)', 'North Korea',\n",
       "       'North Macedonia', 'Norway', 'Oceania', 'Oman', 'Pakistan',\n",
       "       'Palau', 'Palestine', 'Panama', 'Panama Canal Zone',\n",
       "       'Papua New Guinea', 'Paraguay', 'Peru', 'Philippines', 'Poland',\n",
       "       'Portugal', 'Puerto Rico', 'Qatar', 'Reunion', 'Romania', 'Russia',\n",
       "       'Rwanda', 'Ryukyu Islands', 'Saint Helena',\n",
       "       'Saint Kitts and Nevis', 'Saint Lucia',\n",
       "       'Saint Pierre and Miquelon', 'Saint Vincent and the Grenadines',\n",
       "       'Samoa', 'Sao Tome and Principe', 'Saudi Arabia', 'Senegal',\n",
       "       'Serbia', 'Seychelles', 'Sierra Leone', 'Singapore',\n",
       "       'Sint Maarten (Dutch part)', 'Slovakia', 'Slovenia',\n",
       "       'Solomon Islands', 'Somalia', 'South Africa', 'South America',\n",
       "       'South Korea', 'South Sudan', 'Spain', 'Sri Lanka',\n",
       "       'St. Kitts-Nevis-Anguilla', 'Sudan', 'Suriname', 'Sweden',\n",
       "       'Switzerland', 'Syria', 'Taiwan', 'Tajikistan', 'Tanzania',\n",
       "       'Thailand', 'Timor', 'Togo', 'Tonga', 'Trinidad and Tobago',\n",
       "       'Tunisia', 'Turkey', 'Turkmenistan', 'Turks and Caicos Islands',\n",
       "       'Tuvalu', 'Uganda', 'Ukraine', 'United Arab Emirates',\n",
       "       'United Kingdom', 'United States', 'Uruguay', 'Uzbekistan',\n",
       "       'Vanuatu', 'Venezuela', 'Vietnam', 'Wallis and Futuna', 'World',\n",
       "       'Yemen', 'Zambia', 'Zimbabwe'], dtype=object)"
      ]
     },
     "execution_count": 188,
     "metadata": {},
     "output_type": "execute_result"
    }
   ],
   "source": [
    "data.country.unique()"
   ]
  },
  {
   "cell_type": "code",
   "execution_count": 189,
   "id": "711f1d7e-8f9d-4049-bf2d-58929c54200f",
   "metadata": {},
   "outputs": [
    {
     "data": {
      "text/plain": [
       "Index(['country', 'year', 'co2', 'consumption_co2', 'co2_growth_prct',\n",
       "       'co2_growth_abs', 'trade_co2', 'co2_per_capita',\n",
       "       'consumption_co2_per_capita', 'share_global_co2', 'cumulative_co2',\n",
       "       'share_global_cumulative_co2', 'co2_per_gdp', 'consumption_co2_per_gdp',\n",
       "       'co2_per_unit_energy', 'coal_co2', 'cement_co2', 'flaring_co2',\n",
       "       'gas_co2', 'oil_co2', 'other_industry_co2', 'cement_co2_per_capita',\n",
       "       'coal_co2_per_capita', 'flaring_co2_per_capita', 'gas_co2_per_capita',\n",
       "       'oil_co2_per_capita', 'other_co2_per_capita', 'trade_co2_share',\n",
       "       'share_global_cement_co2', 'share_global_coal_co2',\n",
       "       'share_global_flaring_co2', 'share_global_gas_co2',\n",
       "       'share_global_oil_co2', 'share_global_other_co2',\n",
       "       'cumulative_cement_co2', 'cumulative_coal_co2',\n",
       "       'cumulative_flaring_co2', 'cumulative_gas_co2', 'cumulative_oil_co2',\n",
       "       'cumulative_other_co2', 'share_global_cumulative_cement_co2',\n",
       "       'share_global_cumulative_coal_co2',\n",
       "       'share_global_cumulative_flaring_co2',\n",
       "       'share_global_cumulative_gas_co2', 'share_global_cumulative_oil_co2',\n",
       "       'share_global_cumulative_other_co2', 'total_ghg', 'ghg_per_capita',\n",
       "       'methane', 'methane_per_capita', 'nitrous_oxide',\n",
       "       'nitrous_oxide_per_capita', 'population', 'gdp', 'energy_per_capita'],\n",
       "      dtype='object')"
      ]
     },
     "execution_count": 189,
     "metadata": {},
     "output_type": "execute_result"
    }
   ],
   "source": [
    "data.columns"
   ]
  },
  {
   "cell_type": "code",
   "execution_count": 190,
   "id": "aa419f3b-9af8-49f2-8639-4078d087855f",
   "metadata": {},
   "outputs": [],
   "source": [
    "#data['co2'].max()\n",
    "#data['co2'].min()\n",
    "#condition=data['co2']>=0\n",
    "#data=data[condition]"
   ]
  },
  {
   "cell_type": "code",
   "execution_count": 191,
   "id": "5a38b760-f882-41b5-9442-30c7efea9ba3",
   "metadata": {},
   "outputs": [
    {
     "data": {
      "text/html": [
       "<div>\n",
       "<style scoped>\n",
       "    .dataframe tbody tr th:only-of-type {\n",
       "        vertical-align: middle;\n",
       "    }\n",
       "\n",
       "    .dataframe tbody tr th {\n",
       "        vertical-align: top;\n",
       "    }\n",
       "\n",
       "    .dataframe thead th {\n",
       "        text-align: right;\n",
       "    }\n",
       "</style>\n",
       "<table border=\"1\" class=\"dataframe\">\n",
       "  <thead>\n",
       "    <tr style=\"text-align: right;\">\n",
       "      <th></th>\n",
       "      <th>country</th>\n",
       "      <th>year</th>\n",
       "      <th>co2</th>\n",
       "      <th>consumption_co2</th>\n",
       "      <th>co2_growth_prct</th>\n",
       "      <th>co2_growth_abs</th>\n",
       "      <th>trade_co2</th>\n",
       "      <th>co2_per_capita</th>\n",
       "      <th>consumption_co2_per_capita</th>\n",
       "      <th>share_global_co2</th>\n",
       "      <th>...</th>\n",
       "      <th>share_global_cumulative_other_co2</th>\n",
       "      <th>total_ghg</th>\n",
       "      <th>ghg_per_capita</th>\n",
       "      <th>methane</th>\n",
       "      <th>methane_per_capita</th>\n",
       "      <th>nitrous_oxide</th>\n",
       "      <th>nitrous_oxide_per_capita</th>\n",
       "      <th>population</th>\n",
       "      <th>gdp</th>\n",
       "      <th>energy_per_capita</th>\n",
       "    </tr>\n",
       "    <tr>\n",
       "      <th>country_code</th>\n",
       "      <th></th>\n",
       "      <th></th>\n",
       "      <th></th>\n",
       "      <th></th>\n",
       "      <th></th>\n",
       "      <th></th>\n",
       "      <th></th>\n",
       "      <th></th>\n",
       "      <th></th>\n",
       "      <th></th>\n",
       "      <th></th>\n",
       "      <th></th>\n",
       "      <th></th>\n",
       "      <th></th>\n",
       "      <th></th>\n",
       "      <th></th>\n",
       "      <th></th>\n",
       "      <th></th>\n",
       "      <th></th>\n",
       "      <th></th>\n",
       "      <th></th>\n",
       "    </tr>\n",
       "  </thead>\n",
       "  <tbody>\n",
       "    <tr>\n",
       "      <th>AFG</th>\n",
       "      <td>Afghanistan</td>\n",
       "      <td>1949</td>\n",
       "      <td>0.015</td>\n",
       "      <td>NaN</td>\n",
       "      <td>NaN</td>\n",
       "      <td>NaN</td>\n",
       "      <td>NaN</td>\n",
       "      <td>0.002</td>\n",
       "      <td>NaN</td>\n",
       "      <td>0.00</td>\n",
       "      <td>...</td>\n",
       "      <td>NaN</td>\n",
       "      <td>NaN</td>\n",
       "      <td>NaN</td>\n",
       "      <td>NaN</td>\n",
       "      <td>NaN</td>\n",
       "      <td>NaN</td>\n",
       "      <td>NaN</td>\n",
       "      <td>7624058.0</td>\n",
       "      <td>NaN</td>\n",
       "      <td>NaN</td>\n",
       "    </tr>\n",
       "    <tr>\n",
       "      <th>AFG</th>\n",
       "      <td>Afghanistan</td>\n",
       "      <td>1950</td>\n",
       "      <td>0.084</td>\n",
       "      <td>NaN</td>\n",
       "      <td>475.00</td>\n",
       "      <td>0.070</td>\n",
       "      <td>NaN</td>\n",
       "      <td>0.011</td>\n",
       "      <td>NaN</td>\n",
       "      <td>0.00</td>\n",
       "      <td>...</td>\n",
       "      <td>NaN</td>\n",
       "      <td>NaN</td>\n",
       "      <td>NaN</td>\n",
       "      <td>NaN</td>\n",
       "      <td>NaN</td>\n",
       "      <td>NaN</td>\n",
       "      <td>NaN</td>\n",
       "      <td>7752117.0</td>\n",
       "      <td>9.421400e+09</td>\n",
       "      <td>NaN</td>\n",
       "    </tr>\n",
       "    <tr>\n",
       "      <th>AFG</th>\n",
       "      <td>Afghanistan</td>\n",
       "      <td>1951</td>\n",
       "      <td>0.092</td>\n",
       "      <td>NaN</td>\n",
       "      <td>8.70</td>\n",
       "      <td>0.007</td>\n",
       "      <td>NaN</td>\n",
       "      <td>0.012</td>\n",
       "      <td>NaN</td>\n",
       "      <td>0.00</td>\n",
       "      <td>...</td>\n",
       "      <td>NaN</td>\n",
       "      <td>NaN</td>\n",
       "      <td>NaN</td>\n",
       "      <td>NaN</td>\n",
       "      <td>NaN</td>\n",
       "      <td>NaN</td>\n",
       "      <td>NaN</td>\n",
       "      <td>7840151.0</td>\n",
       "      <td>9.692280e+09</td>\n",
       "      <td>NaN</td>\n",
       "    </tr>\n",
       "    <tr>\n",
       "      <th>AFG</th>\n",
       "      <td>Afghanistan</td>\n",
       "      <td>1952</td>\n",
       "      <td>0.092</td>\n",
       "      <td>NaN</td>\n",
       "      <td>0.00</td>\n",
       "      <td>0.000</td>\n",
       "      <td>NaN</td>\n",
       "      <td>0.012</td>\n",
       "      <td>NaN</td>\n",
       "      <td>0.00</td>\n",
       "      <td>...</td>\n",
       "      <td>NaN</td>\n",
       "      <td>NaN</td>\n",
       "      <td>NaN</td>\n",
       "      <td>NaN</td>\n",
       "      <td>NaN</td>\n",
       "      <td>NaN</td>\n",
       "      <td>NaN</td>\n",
       "      <td>7935996.0</td>\n",
       "      <td>1.001732e+10</td>\n",
       "      <td>NaN</td>\n",
       "    </tr>\n",
       "    <tr>\n",
       "      <th>AFG</th>\n",
       "      <td>Afghanistan</td>\n",
       "      <td>1953</td>\n",
       "      <td>0.106</td>\n",
       "      <td>NaN</td>\n",
       "      <td>16.00</td>\n",
       "      <td>0.015</td>\n",
       "      <td>NaN</td>\n",
       "      <td>0.013</td>\n",
       "      <td>NaN</td>\n",
       "      <td>0.00</td>\n",
       "      <td>...</td>\n",
       "      <td>NaN</td>\n",
       "      <td>NaN</td>\n",
       "      <td>NaN</td>\n",
       "      <td>NaN</td>\n",
       "      <td>NaN</td>\n",
       "      <td>NaN</td>\n",
       "      <td>NaN</td>\n",
       "      <td>8039684.0</td>\n",
       "      <td>1.063052e+10</td>\n",
       "      <td>NaN</td>\n",
       "    </tr>\n",
       "    <tr>\n",
       "      <th>...</th>\n",
       "      <td>...</td>\n",
       "      <td>...</td>\n",
       "      <td>...</td>\n",
       "      <td>...</td>\n",
       "      <td>...</td>\n",
       "      <td>...</td>\n",
       "      <td>...</td>\n",
       "      <td>...</td>\n",
       "      <td>...</td>\n",
       "      <td>...</td>\n",
       "      <td>...</td>\n",
       "      <td>...</td>\n",
       "      <td>...</td>\n",
       "      <td>...</td>\n",
       "      <td>...</td>\n",
       "      <td>...</td>\n",
       "      <td>...</td>\n",
       "      <td>...</td>\n",
       "      <td>...</td>\n",
       "      <td>...</td>\n",
       "      <td>...</td>\n",
       "    </tr>\n",
       "    <tr>\n",
       "      <th>ZWE</th>\n",
       "      <td>Zimbabwe</td>\n",
       "      <td>2016</td>\n",
       "      <td>10.738</td>\n",
       "      <td>12.153</td>\n",
       "      <td>-12.17</td>\n",
       "      <td>-1.488</td>\n",
       "      <td>1.415</td>\n",
       "      <td>0.765</td>\n",
       "      <td>0.866</td>\n",
       "      <td>0.03</td>\n",
       "      <td>...</td>\n",
       "      <td>NaN</td>\n",
       "      <td>65.98</td>\n",
       "      <td>4.703</td>\n",
       "      <td>11.92</td>\n",
       "      <td>0.85</td>\n",
       "      <td>6.55</td>\n",
       "      <td>0.467</td>\n",
       "      <td>14030338.0</td>\n",
       "      <td>2.096179e+10</td>\n",
       "      <td>3385.574</td>\n",
       "    </tr>\n",
       "    <tr>\n",
       "      <th>ZWE</th>\n",
       "      <td>Zimbabwe</td>\n",
       "      <td>2017</td>\n",
       "      <td>9.582</td>\n",
       "      <td>11.248</td>\n",
       "      <td>-10.77</td>\n",
       "      <td>-1.156</td>\n",
       "      <td>1.666</td>\n",
       "      <td>0.673</td>\n",
       "      <td>0.790</td>\n",
       "      <td>0.03</td>\n",
       "      <td>...</td>\n",
       "      <td>NaN</td>\n",
       "      <td>NaN</td>\n",
       "      <td>NaN</td>\n",
       "      <td>NaN</td>\n",
       "      <td>NaN</td>\n",
       "      <td>NaN</td>\n",
       "      <td>NaN</td>\n",
       "      <td>14236599.0</td>\n",
       "      <td>2.194784e+10</td>\n",
       "      <td>NaN</td>\n",
       "    </tr>\n",
       "    <tr>\n",
       "      <th>ZWE</th>\n",
       "      <td>Zimbabwe</td>\n",
       "      <td>2018</td>\n",
       "      <td>11.854</td>\n",
       "      <td>13.163</td>\n",
       "      <td>23.72</td>\n",
       "      <td>2.273</td>\n",
       "      <td>1.308</td>\n",
       "      <td>0.821</td>\n",
       "      <td>0.912</td>\n",
       "      <td>0.03</td>\n",
       "      <td>...</td>\n",
       "      <td>NaN</td>\n",
       "      <td>NaN</td>\n",
       "      <td>NaN</td>\n",
       "      <td>NaN</td>\n",
       "      <td>NaN</td>\n",
       "      <td>NaN</td>\n",
       "      <td>NaN</td>\n",
       "      <td>14438812.0</td>\n",
       "      <td>2.271535e+10</td>\n",
       "      <td>NaN</td>\n",
       "    </tr>\n",
       "    <tr>\n",
       "      <th>ZWE</th>\n",
       "      <td>Zimbabwe</td>\n",
       "      <td>2019</td>\n",
       "      <td>10.949</td>\n",
       "      <td>12.422</td>\n",
       "      <td>-7.64</td>\n",
       "      <td>-0.905</td>\n",
       "      <td>1.473</td>\n",
       "      <td>0.748</td>\n",
       "      <td>0.848</td>\n",
       "      <td>0.03</td>\n",
       "      <td>...</td>\n",
       "      <td>NaN</td>\n",
       "      <td>NaN</td>\n",
       "      <td>NaN</td>\n",
       "      <td>NaN</td>\n",
       "      <td>NaN</td>\n",
       "      <td>NaN</td>\n",
       "      <td>NaN</td>\n",
       "      <td>14645473.0</td>\n",
       "      <td>NaN</td>\n",
       "      <td>NaN</td>\n",
       "    </tr>\n",
       "    <tr>\n",
       "      <th>ZWE</th>\n",
       "      <td>Zimbabwe</td>\n",
       "      <td>2020</td>\n",
       "      <td>10.531</td>\n",
       "      <td>NaN</td>\n",
       "      <td>-3.82</td>\n",
       "      <td>-0.418</td>\n",
       "      <td>NaN</td>\n",
       "      <td>0.709</td>\n",
       "      <td>NaN</td>\n",
       "      <td>0.03</td>\n",
       "      <td>...</td>\n",
       "      <td>NaN</td>\n",
       "      <td>NaN</td>\n",
       "      <td>NaN</td>\n",
       "      <td>NaN</td>\n",
       "      <td>NaN</td>\n",
       "      <td>NaN</td>\n",
       "      <td>NaN</td>\n",
       "      <td>14862927.0</td>\n",
       "      <td>NaN</td>\n",
       "      <td>NaN</td>\n",
       "    </tr>\n",
       "  </tbody>\n",
       "</table>\n",
       "<p>25204 rows × 55 columns</p>\n",
       "</div>"
      ],
      "text/plain": [
       "                  country  year     co2  consumption_co2  co2_growth_prct  \\\n",
       "country_code                                                                \n",
       "AFG           Afghanistan  1949   0.015              NaN              NaN   \n",
       "AFG           Afghanistan  1950   0.084              NaN           475.00   \n",
       "AFG           Afghanistan  1951   0.092              NaN             8.70   \n",
       "AFG           Afghanistan  1952   0.092              NaN             0.00   \n",
       "AFG           Afghanistan  1953   0.106              NaN            16.00   \n",
       "...                   ...   ...     ...              ...              ...   \n",
       "ZWE              Zimbabwe  2016  10.738           12.153           -12.17   \n",
       "ZWE              Zimbabwe  2017   9.582           11.248           -10.77   \n",
       "ZWE              Zimbabwe  2018  11.854           13.163            23.72   \n",
       "ZWE              Zimbabwe  2019  10.949           12.422            -7.64   \n",
       "ZWE              Zimbabwe  2020  10.531              NaN            -3.82   \n",
       "\n",
       "              co2_growth_abs  trade_co2  co2_per_capita  \\\n",
       "country_code                                              \n",
       "AFG                      NaN        NaN           0.002   \n",
       "AFG                    0.070        NaN           0.011   \n",
       "AFG                    0.007        NaN           0.012   \n",
       "AFG                    0.000        NaN           0.012   \n",
       "AFG                    0.015        NaN           0.013   \n",
       "...                      ...        ...             ...   \n",
       "ZWE                   -1.488      1.415           0.765   \n",
       "ZWE                   -1.156      1.666           0.673   \n",
       "ZWE                    2.273      1.308           0.821   \n",
       "ZWE                   -0.905      1.473           0.748   \n",
       "ZWE                   -0.418        NaN           0.709   \n",
       "\n",
       "              consumption_co2_per_capita  share_global_co2  ...  \\\n",
       "country_code                                                ...   \n",
       "AFG                                  NaN              0.00  ...   \n",
       "AFG                                  NaN              0.00  ...   \n",
       "AFG                                  NaN              0.00  ...   \n",
       "AFG                                  NaN              0.00  ...   \n",
       "AFG                                  NaN              0.00  ...   \n",
       "...                                  ...               ...  ...   \n",
       "ZWE                                0.866              0.03  ...   \n",
       "ZWE                                0.790              0.03  ...   \n",
       "ZWE                                0.912              0.03  ...   \n",
       "ZWE                                0.848              0.03  ...   \n",
       "ZWE                                  NaN              0.03  ...   \n",
       "\n",
       "              share_global_cumulative_other_co2  total_ghg  ghg_per_capita  \\\n",
       "country_code                                                                 \n",
       "AFG                                         NaN        NaN             NaN   \n",
       "AFG                                         NaN        NaN             NaN   \n",
       "AFG                                         NaN        NaN             NaN   \n",
       "AFG                                         NaN        NaN             NaN   \n",
       "AFG                                         NaN        NaN             NaN   \n",
       "...                                         ...        ...             ...   \n",
       "ZWE                                         NaN      65.98           4.703   \n",
       "ZWE                                         NaN        NaN             NaN   \n",
       "ZWE                                         NaN        NaN             NaN   \n",
       "ZWE                                         NaN        NaN             NaN   \n",
       "ZWE                                         NaN        NaN             NaN   \n",
       "\n",
       "              methane  methane_per_capita  nitrous_oxide  \\\n",
       "country_code                                               \n",
       "AFG               NaN                 NaN            NaN   \n",
       "AFG               NaN                 NaN            NaN   \n",
       "AFG               NaN                 NaN            NaN   \n",
       "AFG               NaN                 NaN            NaN   \n",
       "AFG               NaN                 NaN            NaN   \n",
       "...               ...                 ...            ...   \n",
       "ZWE             11.92                0.85           6.55   \n",
       "ZWE               NaN                 NaN            NaN   \n",
       "ZWE               NaN                 NaN            NaN   \n",
       "ZWE               NaN                 NaN            NaN   \n",
       "ZWE               NaN                 NaN            NaN   \n",
       "\n",
       "              nitrous_oxide_per_capita  population           gdp  \\\n",
       "country_code                                                       \n",
       "AFG                                NaN   7624058.0           NaN   \n",
       "AFG                                NaN   7752117.0  9.421400e+09   \n",
       "AFG                                NaN   7840151.0  9.692280e+09   \n",
       "AFG                                NaN   7935996.0  1.001732e+10   \n",
       "AFG                                NaN   8039684.0  1.063052e+10   \n",
       "...                                ...         ...           ...   \n",
       "ZWE                              0.467  14030338.0  2.096179e+10   \n",
       "ZWE                                NaN  14236599.0  2.194784e+10   \n",
       "ZWE                                NaN  14438812.0  2.271535e+10   \n",
       "ZWE                                NaN  14645473.0           NaN   \n",
       "ZWE                                NaN  14862927.0           NaN   \n",
       "\n",
       "              energy_per_capita  \n",
       "country_code                     \n",
       "AFG                         NaN  \n",
       "AFG                         NaN  \n",
       "AFG                         NaN  \n",
       "AFG                         NaN  \n",
       "AFG                         NaN  \n",
       "...                         ...  \n",
       "ZWE                    3385.574  \n",
       "ZWE                         NaN  \n",
       "ZWE                         NaN  \n",
       "ZWE                         NaN  \n",
       "ZWE                         NaN  \n",
       "\n",
       "[25204 rows x 55 columns]"
      ]
     },
     "execution_count": 191,
     "metadata": {},
     "output_type": "execute_result"
    }
   ],
   "source": [
    "data"
   ]
  },
  {
   "cell_type": "code",
   "execution_count": 192,
   "id": "b49ec952-6631-428b-a8d8-c5ec8b2ef0f9",
   "metadata": {},
   "outputs": [
    {
     "name": "stderr",
     "output_type": "stream",
     "text": [
      "C:\\Users\\Sidharth-Sasi\\anaconda3\\lib\\site-packages\\seaborn\\distributions.py:2619: FutureWarning: `distplot` is a deprecated function and will be removed in a future version. Please adapt your code to use either `displot` (a figure-level function with similar flexibility) or `histplot` (an axes-level function for histograms).\n",
      "  warnings.warn(msg, FutureWarning)\n"
     ]
    },
    {
     "data": {
      "image/png": "[encoded data removed]",
      "text/plain": [
       "<Figure size 576x396 with 1 Axes>"
      ]
     },
     "metadata": {},
     "output_type": "display_data"
    }
   ],
   "source": [
    "sns.distplot(data['co2'],kde=False)\n",
    "plt.show()"
   ]
  },
  {
   "cell_type": "code",
   "execution_count": 193,
   "id": "160a81d6-5a4e-4451-ae52-4c96e833cf30",
   "metadata": {},
   "outputs": [
    {
     "data": {
      "text/plain": [
       "country\n",
       "Sint Maarten (Dutch part)          10510.974\n",
       "Curacao                             3674.763\n",
       "Qatar                               3288.008\n",
       "Bonaire Sint Eustatius and Saba     2500.446\n",
       "United States                       2180.042\n",
       "                                     ...    \n",
       "Micronesia                             0.000\n",
       "Micronesia (country)                   0.000\n",
       "Panama Canal Zone                      0.000\n",
       "Ryukyu Islands                         0.000\n",
       "Leeward Islands                        0.000\n",
       "Name: co2_per_capita, Length: 244, dtype: float64"
      ]
     },
     "execution_count": 193,
     "metadata": {},
     "output_type": "execute_result"
    }
   ],
   "source": [
    "data.groupby('country')['co2_per_capita'].sum().sort_values(ascending=False)"
   ]
  },
  {
   "cell_type": "code",
   "execution_count": 194,
   "id": "ed109faa-4aa4-4dc0-b7c3-508aa49f0f78",
   "metadata": {},
   "outputs": [
    {
     "data": {
      "text/plain": [
       "country\n",
       "Curacao                            3674.763\n",
       "Qatar                              3288.008\n",
       "Bonaire Sint Eustatius and Saba    2500.446\n",
       "United States                      2180.042\n",
       "Brunei                             2068.496\n",
       "Luxembourg                         1974.100\n",
       "United Arab Emirates               1827.055\n",
       "Kuwait                             1821.244\n",
       "Bahrain                            1731.580\n",
       "Name: co2_per_capita, dtype: float64"
      ]
     },
     "execution_count": 194,
     "metadata": {},
     "output_type": "execute_result"
    }
   ],
   "source": [
    "data.groupby('country')['co2_per_capita'].sum().sort_values(ascending=False)[1:10]\n",
    "\n",
    "#plt.style.use('seaborn')\n",
    "#data_country_index.plot('country')['mean'].sort_values(ascending=False)[1:10].plot(kind='pie')\n",
    "#for pie plot\n",
    "#data_country_index.groupby('country')['co2'].mean().sort_values(ascending=False)[1:10].plot(kind='pie')\n",
    "#plt.title('Top 10 Countries in co2 emission from 1751 to 2017',fontweight='bold',fontsize=14)\n",
    "#colors = sns.color_palette('pastel')[0:5]\n",
    "#plot_order = data_country.groupby('country')['mean'].sum().sort_values(ascending = False).index.values\n",
    "#for bar plot\n",
    "#sns.catplot(data = data_country_index, x = 'country', y = 'mean', kind = 'bar', ci = None, legend_out = True, order = plot_order[1:10])\n",
    "#data_country.columns\n",
    "#data_country_index.plot('country')['Sum_Co2'].sort_values(ascending=False)[1:10].plot(kind='pie')\n",
    "#plt.pie(Sum_Co2, labels=country, colors = colors, autopct = '%.0f%%') \n",
    "#plt.show()\n",
    "#plt.ylabel('Co2 Emissions in Ton')\n",
    "#goa_df = covid_df[covid_df['State'] == 'Goa']\n",
    "#delhi_df = covid_df[covid_df['State'] == 'Delhi']\n",
    "#world_x = data[data.columns[2:54]].mean().index\n",
    "#world_y = data[data.columns[2:54]].mean()"
   ]
  },
  {
   "cell_type": "code",
   "execution_count": 195,
   "id": "99e7338d-060f-41d7-aa5f-a525bddafc61",
   "metadata": {},
   "outputs": [],
   "source": [
    "# Plot\n",
    "#plt.plot(world_x,world_y)\n",
    "#plt.title(\"CO2 Emission per capita averaged accross all countries\")\n",
    "#plt.ylabel(\"Mean CO2 Emission (Metric tons/capita)\")\n",
    "#fig=plt.xlabel(\"Year\")\n",
    "#plt.savefig('test2', format='png')"
   ]
  },
  {
   "cell_type": "code",
   "execution_count": 196,
   "id": "3ed09695-2456-4396-a742-0d4b38bcc57d",
   "metadata": {},
   "outputs": [
    {
     "data": {
      "image/png": "[encoded data removed]",
      "text/plain": [
       "<Figure size 576x396 with 1 Axes>"
      ]
     },
     "metadata": {},
     "output_type": "display_data"
    }
   ],
   "source": [
    "plt.style.use('seaborn')\n",
    "data_emission=data.groupby('country')['share_global_cumulative_co2'].sum().sort_values(ascending=False)[1:10].plot(kind='bar')\n",
    "plt.title('Top 10 Countries with highest per capita co2 emissions in oils sector: from 1949 to 2020',fontweight='bold',fontsize=20, color='red')\n",
    "plt.savefig('Top_10_countries_oil_per_capita_sector_capita_co2_PieChart', format='png')\n",
    "#plt.legend('CO2 Emissions in Ton')"
   ]
  },
  {
   "cell_type": "code",
   "execution_count": 197,
   "id": "d14c8f9f-5168-412a-b1c1-403a32bcda8b",
   "metadata": {},
   "outputs": [],
   "source": [
    "#Decade level changes\n",
    "Decade_1=data['year']<=1960\n",
    "Decade_2=data['year']>=1949"
   ]
  },
  {
   "cell_type": "code",
   "execution_count": 198,
   "id": "fb2e9c4e-5c62-4055-b735-0c648d497026",
   "metadata": {},
   "outputs": [],
   "source": [
    "Decade_1950s=data[Decade_1]"
   ]
  },
  {
   "cell_type": "code",
   "execution_count": 199,
   "id": "56690321-6aa8-43e5-b6b5-cd0b5d244d6d",
   "metadata": {},
   "outputs": [],
   "source": [
    "Decade_2=data['year']<=1970\n",
    "Decade_2=data['year']>=1960"
   ]
  },
  {
   "cell_type": "code",
   "execution_count": 200,
   "id": "3ab53a66-ccf3-4291-8b4e-8723562afafd",
   "metadata": {},
   "outputs": [],
   "source": [
    "Decade_1960s=data[Decade_2]"
   ]
  },
  {
   "cell_type": "code",
   "execution_count": 201,
   "id": "eec49908-0c7c-4a5d-8b6d-1b49fd650dea",
   "metadata": {},
   "outputs": [],
   "source": [
    "Decade_3=data['year']<=1980\n",
    "Decade_3=data['year']>=1970"
   ]
  },
  {
   "cell_type": "code",
   "execution_count": 202,
   "id": "044416ec-7b36-4dd8-9d53-479ae11e303e",
   "metadata": {},
   "outputs": [],
   "source": [
    "Decade_1970s=data[Decade_3]"
   ]
  },
  {
   "cell_type": "code",
   "execution_count": 203,
   "id": "bf99b435-59ad-4d78-b085-2c380e135adb",
   "metadata": {},
   "outputs": [],
   "source": [
    "Decade_4=data['year']<=1990\n",
    "Decade_4=data['year']>=1980"
   ]
  },
  {
   "cell_type": "code",
   "execution_count": 204,
   "id": "076f2010-38ed-4a0e-b9a2-04da08df25f1",
   "metadata": {},
   "outputs": [],
   "source": [
    "Decade_1980s=data[Decade_4]"
   ]
  },
  {
   "cell_type": "code",
   "execution_count": 205,
   "id": "a73eeab8-2f04-4948-afbd-84feb9e469e5",
   "metadata": {},
   "outputs": [],
   "source": [
    "Decade_5=data['year']<=2000\n",
    "Decade_5=data['year']>=1990"
   ]
  },
  {
   "cell_type": "code",
   "execution_count": 206,
   "id": "9fee3d39-d2ce-4f89-92c8-f8cb01e739ae",
   "metadata": {},
   "outputs": [],
   "source": [
    "Decade_1990s=data[Decade_5]"
   ]
  },
  {
   "cell_type": "code",
   "execution_count": 207,
   "id": "5fff3b4f-f39e-422e-854c-403a129f9981",
   "metadata": {},
   "outputs": [],
   "source": [
    "Decade_6=data['year']<=2010\n",
    "Decade_6=data['year']>=2000"
   ]
  },
  {
   "cell_type": "code",
   "execution_count": 208,
   "id": "5bceaa0f-ca75-4f72-b979-79e95f45cdcc",
   "metadata": {},
   "outputs": [],
   "source": [
    "Decade_2000s=data[Decade_6]"
   ]
  },
  {
   "cell_type": "code",
   "execution_count": 209,
   "id": "43b87f32-acca-4507-bda0-372c9f6eec6e",
   "metadata": {},
   "outputs": [],
   "source": [
    "Decade_7=data['year']<=2020\n",
    "Decade_7=data['year']>=2010"
   ]
  },
  {
   "cell_type": "code",
   "execution_count": 210,
   "id": "d1be3ea8-bc82-4fb1-ab6e-900de58fa358",
   "metadata": {},
   "outputs": [],
   "source": [
    "Decade_2010s=data[Decade_7]"
   ]
  },
  {
   "cell_type": "code",
   "execution_count": 211,
   "id": "747bf556-996d-4d6c-961b-0418fb00023e",
   "metadata": {},
   "outputs": [
    {
     "name": "stderr",
     "output_type": "stream",
     "text": [
      "C:\\Users\\Sidharth-Sasi\\anaconda3\\lib\\site-packages\\seaborn\\distributions.py:2619: FutureWarning: `distplot` is a deprecated function and will be removed in a future version. Please adapt your code to use either `displot` (a figure-level function with similar flexibility) or `histplot` (an axes-level function for histograms).\n",
      "  warnings.warn(msg, FutureWarning)\n"
     ]
    },
    {
     "ename": "TypeError",
     "evalue": "'str' object is not callable",
     "output_type": "error",
     "traceback": [
      "\u001b[1;31m---------------------------------------------------------------------------\u001b[0m",
      "\u001b[1;31mTypeError\u001b[0m                                 Traceback (most recent call last)",
      "\u001b[1;32mC:\\Users\\SIDHAR~1\\AppData\\Local\\Temp/ipykernel_31060/3897094133.py\u001b[0m in \u001b[0;36m<module>\u001b[1;34m\u001b[0m\n\u001b[0;32m      1\u001b[0m \u001b[1;31m#Co2 Emission for 1950 to 1960\u001b[0m\u001b[1;33m\u001b[0m\u001b[1;33m\u001b[0m\u001b[1;33m\u001b[0m\u001b[0m\n\u001b[0;32m      2\u001b[0m \u001b[0msns\u001b[0m\u001b[1;33m.\u001b[0m\u001b[0mdistplot\u001b[0m\u001b[1;33m(\u001b[0m\u001b[0mDecade_1950s\u001b[0m\u001b[1;33m[\u001b[0m\u001b[1;34m'co2_per_capita'\u001b[0m\u001b[1;33m]\u001b[0m\u001b[1;33m,\u001b[0m\u001b[0mkde\u001b[0m\u001b[1;33m=\u001b[0m\u001b[1;32mFalse\u001b[0m\u001b[1;33m)\u001b[0m\u001b[1;33m.\u001b[0m\u001b[0mset_title\u001b[0m\u001b[1;33m(\u001b[0m\u001b[1;34m'Co2 per capita emissions from 1949 to 1960 Histogram'\u001b[0m\u001b[1;33m)\u001b[0m\u001b[1;33m\u001b[0m\u001b[1;33m\u001b[0m\u001b[0m\n\u001b[1;32m----> 3\u001b[1;33m \u001b[0mplt\u001b[0m\u001b[1;33m.\u001b[0m\u001b[0mylabel\u001b[0m\u001b[1;33m(\u001b[0m\u001b[1;34m'CO2 per capita emissions'\u001b[0m\u001b[1;33m)\u001b[0m\u001b[1;33m\u001b[0m\u001b[1;33m\u001b[0m\u001b[0m\n\u001b[0m\u001b[0;32m      4\u001b[0m \u001b[0mplt\u001b[0m\u001b[1;33m.\u001b[0m\u001b[0mshow\u001b[0m\u001b[1;33m(\u001b[0m\u001b[1;33m)\u001b[0m\u001b[1;33m\u001b[0m\u001b[1;33m\u001b[0m\u001b[0m\n",
      "\u001b[1;31mTypeError\u001b[0m: 'str' object is not callable"
     ]
    },
    {
     "data": {
      "image/png": "[encoded data removed]",
      "text/plain": [
       "<Figure size 576x396 with 1 Axes>"
      ]
     },
     "metadata": {},
     "output_type": "display_data"
    }
   ],
   "source": [
    "#Co2 Emission for 1950 to 1960\n",
    "sns.distplot(Decade_1950s['co2_per_capita'],kde=False).set_title('Co2 per capita emissions from 1949 to 1960 Histogram')\n",
    "plt.ylabel('CO2 per capita emissions')\n",
    "plt.show()"
   ]
  },
  {
   "cell_type": "code",
   "execution_count": 212,
   "id": "fa06e662-70d5-45be-81ce-9216d0530d6d",
   "metadata": {},
   "outputs": [
    {
     "data": {
      "text/plain": [
       "country\n",
       "World                       306814.812\n",
       "Europe                      147771.523\n",
       "EU-28                       127908.085\n",
       "North America               127693.721\n",
       "United States               119157.207\n",
       "                               ...    \n",
       "Dominica                         0.060\n",
       "Burkina Faso                     0.055\n",
       "St. Kitts-Nevis-Anguilla         0.048\n",
       "United Arab Emirates             0.022\n",
       "Comoros                          0.022\n",
       "Name: co2, Length: 212, dtype: float64"
      ]
     },
     "execution_count": 212,
     "metadata": {},
     "output_type": "execute_result"
    }
   ],
   "source": [
    "Decade_1950s.groupby('country')['co2'].sum().sort_values(ascending=False)"
   ]
  },
  {
   "cell_type": "code",
   "execution_count": 213,
   "id": "8ce74a09-3399-4b9f-ac4d-41e21247a83b",
   "metadata": {},
   "outputs": [
    {
     "data": {
      "image/png": "[encoded data removed]",
      "text/plain": [
       "<Figure size 576x396 with 1 Axes>"
      ]
     },
     "metadata": {},
     "output_type": "display_data"
    }
   ],
   "source": [
    "plt.style.use('seaborn')\n",
    "Decade_1950s.groupby('country')['co2'].sum().sort_values(ascending=False)[1:11].plot(kind='bar')\n",
    "#Decade_1960s.groupby('country')['co2'].sum().sort_values(ascending=False)[1:11].plot(kind='bar')\n",
    "#Decade_1970s.groupby('country')['co2'].sum().sort_values(ascending=False)[1:11].plot(kind='bar')\n",
    "#Decade_1980s.groupby('country')['co2'].sum().sort_values(ascending=False)[1:11].plot(kind='bar')\n",
    "#Decade_1990s.groupby('country')['co2'].sum().sort_values(ascending=False)[1:11].plot(kind='bar')\n",
    "#Decade_2000s.groupby('country')['co2'].sum().sort_values(ascending=False)[1:11].plot(kind='bar')\n",
    "#Decade_2010s.groupby('country')['co2'].sum().sort_values(ascending=False)[1:11].plot(kind='bar')\n",
    "#plt.ylabel('CO2 Emissions in tonnes')\n",
    "plt.title('Co2 per capita emissions from year 1950 to 1960 by country',fontweight='bold')\n",
    "plt.savefig('Top 10_countries_co2_per_capita_1950to1960', format='png')"
   ]
  },
  {
   "cell_type": "code",
   "execution_count": 214,
   "id": "4cb41b7b-5153-49dd-8dca-df067ca13c6c",
   "metadata": {},
   "outputs": [
    {
     "data": {
      "text/plain": [
       "24989.634"
      ]
     },
     "execution_count": 214,
     "metadata": {},
     "output_type": "execute_result"
    }
   ],
   "source": [
    "co2_emissions_1950s=np.array(Decade_1950s['co2_per_capita'].sum())\n",
    "Decade_1950s['co2_per_capita'].sum()"
   ]
  },
  {
   "cell_type": "code",
   "execution_count": 215,
   "id": "9357985b-c97c-430d-ac27-3dc1aca90e39",
   "metadata": {},
   "outputs": [
    {
     "data": {
      "text/plain": [
       "73247.33"
      ]
     },
     "execution_count": 215,
     "metadata": {},
     "output_type": "execute_result"
    }
   ],
   "source": [
    "co2_emissions_1960s=np.array(Decade_1960s['co2_per_capita'].sum())\n",
    "Decade_1960s['co2_per_capita'].sum()"
   ]
  },
  {
   "cell_type": "code",
   "execution_count": 216,
   "id": "c99375ce-cd13-48d7-bbe4-8b870e8fb7de",
   "metadata": {},
   "outputs": [
    {
     "data": {
      "text/plain": [
       "62027.976"
      ]
     },
     "execution_count": 216,
     "metadata": {},
     "output_type": "execute_result"
    }
   ],
   "source": [
    "co2_emissions_1970s=np.array(Decade_1970s['co2_per_capita'].sum())\n",
    "Decade_1970s['co2_per_capita'].sum()"
   ]
  },
  {
   "cell_type": "code",
   "execution_count": 217,
   "id": "73c6231f-42a6-435f-beed-2226de6cd24c",
   "metadata": {},
   "outputs": [
    {
     "data": {
      "text/plain": [
       "48065.527"
      ]
     },
     "execution_count": 217,
     "metadata": {},
     "output_type": "execute_result"
    }
   ],
   "source": [
    "co2_emissions_1980s=np.array(Decade_1980s['co2_per_capita'].sum())\n",
    "Decade_1980s['co2_per_capita'].sum()"
   ]
  },
  {
   "cell_type": "code",
   "execution_count": 218,
   "id": "5786da22-42db-4b90-b804-ed9b0c9c91a9",
   "metadata": {},
   "outputs": [
    {
     "data": {
      "text/plain": [
       "36427.041"
      ]
     },
     "execution_count": 218,
     "metadata": {},
     "output_type": "execute_result"
    }
   ],
   "source": [
    "co2_emissions_1990s=np.array(Decade_1990s['co2_per_capita'].sum())\n",
    "Decade_1990s['co2_per_capita'].sum()"
   ]
  },
  {
   "cell_type": "code",
   "execution_count": 219,
   "id": "0a962ced-192c-43c8-b747-3424baa6244e",
   "metadata": {},
   "outputs": [
    {
     "data": {
      "text/plain": [
       "25161.614"
      ]
     },
     "execution_count": 219,
     "metadata": {},
     "output_type": "execute_result"
    }
   ],
   "source": [
    "co2_emissions_2000s=np.array(Decade_2000s['co2_per_capita'].sum())\n",
    "Decade_2000s['co2_per_capita'].sum()"
   ]
  },
  {
   "cell_type": "code",
   "execution_count": 220,
   "id": "a73fdb57-89fb-43b8-ae46-cc2b3fa88aaf",
   "metadata": {},
   "outputs": [
    {
     "data": {
      "text/plain": [
       "12884.616"
      ]
     },
     "execution_count": 220,
     "metadata": {},
     "output_type": "execute_result"
    }
   ],
   "source": [
    "co2_emissions_2010s=np.array(Decade_2010s['co2_per_capita'].sum())\n",
    "Decade_2010s['co2_per_capita'].sum()"
   ]
  },
  {
   "cell_type": "code",
   "execution_count": 221,
   "id": "9776176a-d79e-46af-a387-d27433b85c39",
   "metadata": {},
   "outputs": [
    {
     "data": {
      "image/png": "[encoded data removed]",
      "text/plain": [
       "<Figure size 576x396 with 1 Axes>"
      ]
     },
     "metadata": {},
     "output_type": "display_data"
    }
   ],
   "source": [
    "plt.barh([1,2,3,4,5,6,7],[co2_emissions_1950s,co2_emissions_1960s,co2_emissions_1970s,co2_emissions_1980s,co2_emissions_1990s,co2_emissions_2000s, co2_emissions_2010s]\n",
    "       ,tick_label=['1949-1960','1960-1970','1970-1980','1980-1990','1990-2000','2000-2010', '2010-2020'], color='green', edgecolor='black')\n",
    "plt.xtitle=('Time Frames')\n",
    "plt.ylabel=('Global contribution of Co2 emissions in ton')\n",
    "plt.title('Decadal contribution of global Co2 Emissions',fontweight='bold')\n",
    "#plt.show()\n",
    "plt.savefig('Global_Co2_emissions_at_decadal_timeframe', format='png')"
   ]
  },
  {
   "cell_type": "code",
   "execution_count": 222,
   "id": "585992b5-4ed4-4ca9-9dcd-246acfd33352",
   "metadata": {},
   "outputs": [
    {
     "ename": "SyntaxError",
     "evalue": "invalid syntax (Temp/ipykernel_31060/2735257983.py, line 2)",
     "output_type": "error",
     "traceback": [
      "\u001b[1;36m  File \u001b[1;32m\"C:\\Users\\SIDHAR~1\\AppData\\Local\\Temp/ipykernel_31060/2735257983.py\"\u001b[1;36m, line \u001b[1;32m2\u001b[0m\n\u001b[1;33m    co2_emission_country=data.groupby(\"country\", sort=False)[\"co2\"].sum().\u001b[0m\n\u001b[1;37m                                                                          ^\u001b[0m\n\u001b[1;31mSyntaxError\u001b[0m\u001b[1;31m:\u001b[0m invalid syntax\n"
     ]
    }
   ],
   "source": [
    "#data_group =  data.groupby('country')['ountry'].count()\n",
    "co2_emission_country=data.groupby(\"country\", sort=False)[\"co2\"].sum().\n",
    "co2_per_capita_country=data.groupby(\"country\", sort=False)[\"co2_per_capita\"].sum()\n",
    "co2_growth_abs_country=data.groupby(\"country\", sort=False)[\"co2_growth_abs\"].sum()\n",
    "share_global_co2_country=data.groupby(\"country\", sort=False)[\"share_global_co2\"].sum()\n",
    "coal_co2_country=data.groupby(\"country\", sort=False)[\"coal_co2\"].sum()\n",
    "cement_co2_country=data.groupby(\"country\", sort=False)[\"cement_co2\"].sum()\n",
    "flaring_co2_country=data.groupby(\"country\", sort=False)[\"flaring_co2\"].sum()\n",
    "gas_co2_country=data.groupby(\"country\", sort=False)[\"gas_co2\"].sum()\n",
    "oil_co2_country=data.groupby(\"country\", sort=False)[\"oil_co2\"].sum()\n",
    "other_industry_co2_country=data.groupby(\"country\", sort=False)[\"other_industry_co2\"].sum()\n",
    "methane_country=data.groupby(\"country\", sort=False)[\"methane\"].sum()\n",
    "methane_per_capita_country=data.groupby(\"country\", sort=False)[\"methane_per_capita\"].sum()\n",
    "nitrous_oxide_country=data.groupby(\"country\", sort=False)[\"nitrous_oxide\"].sum()\n",
    "nitrous_oxideper_capita_country=data.groupby(\"country\", sort=False)[\"nitrous_oxide_per_capita\"].sum()\n",
    "population_country=data.groupby(\"country\", sort=False)[\"population\"].sum()\n",
    "gdp_country=data.groupby(\"country\", sort=False)[\"gdp\"].sum()\n",
    "co2_per_gdp_country=data.groupby(\"country\", sort=False)[\"co2_per_gdp\"].sum()\n",
    "co2_emission_country \n",
    "#plt.style.use('seaborn')\n",
    "#co2_emission_country('country')['co2'].plot(kind='bar')"
   ]
  },
  {
   "cell_type": "code",
   "execution_count": 223,
   "id": "b5a68a46-c6bb-4a22-a176-d197ac72453e",
   "metadata": {},
   "outputs": [],
   "source": [
    "#data_emissions = pd.merge(co2_emission_country, co2_per_capita_country, co2_growth_abs_country, share_global_co2_country, coal_co2_country, cement_co2_country, flaring_co2_country, gas_co2_country, oil_co2_country, other_industry_co2_country, methane_country, methane_per_capita_country, nitrous_oxide_country, nitrous_oxideper_capita_country, population_country, gdp_country, co2_per_gdp_country)\n",
    "#merged_1 = pd.merge(co2_emission_country, co2_per_capita_country, co2_growth_abs_country, share_global_co2_country, coal_co2_country, cement_co2_country, flaring_co2_country, gas_co2_country, oil_co2_country, other_industry_co2_country, how='outer',\n",
    "     #             left_on='country', right_on='country')\n",
    "#merged = merged.drop('methane_country', 1) # drop duplicate info\n",
    "#merged.head()\n",
    "from functools import reduce\n",
    "filenames_1=['co2_emission_country', 'co2_per_capita_country', 'co2_growth_abs_country']\n",
    "filenames_1=['share_global_co2_country', 'coal_co2_country', 'cement_co2_country', 'flaring_co2_country']\n",
    "filenames_1=['gas_co2_country', 'oil_co2_country', 'other_industry_co2_country', 'methane_country']\n",
    "filenames_1=['methane_per_capita_country', 'nitrous_oxide_country', 'nitrous_oxideper_capita_country'] \n",
    "filenames_1=['population_country', 'gdp_country', 'co2_per_gdp_country']\n",
    "#data_emissions_1= reduce(lambda left,right: pd.merge(left,right,on='country'), filenames_1)\n",
    "#data_emissions = reduce(lambda  left, right: left.join(right, how='outer', on='country'), filenames_1)\n",
    "#dfs = [pd.read_csv(filename, index_col=index_col) for filename in filenames)]\n",
    "#data_emissions_1[0].join(data_emissions_1[1:])"
   ]
  },
  {
   "cell_type": "code",
   "execution_count": 224,
   "id": "88bd67c3-7898-4cb2-a4b1-cdcadd46b345",
   "metadata": {},
   "outputs": [
    {
     "data": {
      "text/html": [
       "<div>\n",
       "<style scoped>\n",
       "    .dataframe tbody tr th:only-of-type {\n",
       "        vertical-align: middle;\n",
       "    }\n",
       "\n",
       "    .dataframe tbody tr th {\n",
       "        vertical-align: top;\n",
       "    }\n",
       "\n",
       "    .dataframe thead th {\n",
       "        text-align: right;\n",
       "    }\n",
       "</style>\n",
       "<table border=\"1\" class=\"dataframe\">\n",
       "  <thead>\n",
       "    <tr style=\"text-align: right;\">\n",
       "      <th>year</th>\n",
       "      <th>1750</th>\n",
       "      <th>1751</th>\n",
       "      <th>1752</th>\n",
       "      <th>1753</th>\n",
       "      <th>1754</th>\n",
       "      <th>1755</th>\n",
       "      <th>1756</th>\n",
       "      <th>1757</th>\n",
       "      <th>1758</th>\n",
       "      <th>1759</th>\n",
       "      <th>...</th>\n",
       "      <th>2011</th>\n",
       "      <th>2012</th>\n",
       "      <th>2013</th>\n",
       "      <th>2014</th>\n",
       "      <th>2015</th>\n",
       "      <th>2016</th>\n",
       "      <th>2017</th>\n",
       "      <th>2018</th>\n",
       "      <th>2019</th>\n",
       "      <th>2020</th>\n",
       "    </tr>\n",
       "    <tr>\n",
       "      <th>country</th>\n",
       "      <th></th>\n",
       "      <th></th>\n",
       "      <th></th>\n",
       "      <th></th>\n",
       "      <th></th>\n",
       "      <th></th>\n",
       "      <th></th>\n",
       "      <th></th>\n",
       "      <th></th>\n",
       "      <th></th>\n",
       "      <th></th>\n",
       "      <th></th>\n",
       "      <th></th>\n",
       "      <th></th>\n",
       "      <th></th>\n",
       "      <th></th>\n",
       "      <th></th>\n",
       "      <th></th>\n",
       "      <th></th>\n",
       "      <th></th>\n",
       "      <th></th>\n",
       "    </tr>\n",
       "  </thead>\n",
       "  <tbody>\n",
       "    <tr>\n",
       "      <th>Afghanistan</th>\n",
       "      <td>NaN</td>\n",
       "      <td>NaN</td>\n",
       "      <td>NaN</td>\n",
       "      <td>NaN</td>\n",
       "      <td>NaN</td>\n",
       "      <td>NaN</td>\n",
       "      <td>NaN</td>\n",
       "      <td>NaN</td>\n",
       "      <td>NaN</td>\n",
       "      <td>NaN</td>\n",
       "      <td>...</td>\n",
       "      <td>12.106</td>\n",
       "      <td>10.219</td>\n",
       "      <td>8.441</td>\n",
       "      <td>7.774</td>\n",
       "      <td>7.904</td>\n",
       "      <td>6.745</td>\n",
       "      <td>6.860</td>\n",
       "      <td>8.345</td>\n",
       "      <td>12.147</td>\n",
       "      <td>12.160</td>\n",
       "    </tr>\n",
       "    <tr>\n",
       "      <th>Africa</th>\n",
       "      <td>NaN</td>\n",
       "      <td>NaN</td>\n",
       "      <td>NaN</td>\n",
       "      <td>NaN</td>\n",
       "      <td>NaN</td>\n",
       "      <td>NaN</td>\n",
       "      <td>NaN</td>\n",
       "      <td>NaN</td>\n",
       "      <td>NaN</td>\n",
       "      <td>NaN</td>\n",
       "      <td>...</td>\n",
       "      <td>1258.709</td>\n",
       "      <td>1253.144</td>\n",
       "      <td>1260.316</td>\n",
       "      <td>1363.500</td>\n",
       "      <td>1322.735</td>\n",
       "      <td>1356.719</td>\n",
       "      <td>1384.372</td>\n",
       "      <td>1385.645</td>\n",
       "      <td>1408.479</td>\n",
       "      <td>1326.044</td>\n",
       "    </tr>\n",
       "    <tr>\n",
       "      <th>Albania</th>\n",
       "      <td>NaN</td>\n",
       "      <td>NaN</td>\n",
       "      <td>NaN</td>\n",
       "      <td>NaN</td>\n",
       "      <td>NaN</td>\n",
       "      <td>NaN</td>\n",
       "      <td>NaN</td>\n",
       "      <td>NaN</td>\n",
       "      <td>NaN</td>\n",
       "      <td>NaN</td>\n",
       "      <td>...</td>\n",
       "      <td>5.031</td>\n",
       "      <td>4.668</td>\n",
       "      <td>4.928</td>\n",
       "      <td>5.621</td>\n",
       "      <td>4.496</td>\n",
       "      <td>4.492</td>\n",
       "      <td>5.302</td>\n",
       "      <td>4.734</td>\n",
       "      <td>4.863</td>\n",
       "      <td>4.535</td>\n",
       "    </tr>\n",
       "    <tr>\n",
       "      <th>Algeria</th>\n",
       "      <td>NaN</td>\n",
       "      <td>NaN</td>\n",
       "      <td>NaN</td>\n",
       "      <td>NaN</td>\n",
       "      <td>NaN</td>\n",
       "      <td>NaN</td>\n",
       "      <td>NaN</td>\n",
       "      <td>NaN</td>\n",
       "      <td>NaN</td>\n",
       "      <td>NaN</td>\n",
       "      <td>...</td>\n",
       "      <td>119.808</td>\n",
       "      <td>128.111</td>\n",
       "      <td>132.435</td>\n",
       "      <td>142.529</td>\n",
       "      <td>149.683</td>\n",
       "      <td>148.929</td>\n",
       "      <td>154.936</td>\n",
       "      <td>161.487</td>\n",
       "      <td>166.642</td>\n",
       "      <td>154.995</td>\n",
       "    </tr>\n",
       "    <tr>\n",
       "      <th>Andorra</th>\n",
       "      <td>NaN</td>\n",
       "      <td>NaN</td>\n",
       "      <td>NaN</td>\n",
       "      <td>NaN</td>\n",
       "      <td>NaN</td>\n",
       "      <td>NaN</td>\n",
       "      <td>NaN</td>\n",
       "      <td>NaN</td>\n",
       "      <td>NaN</td>\n",
       "      <td>NaN</td>\n",
       "      <td>...</td>\n",
       "      <td>0.491</td>\n",
       "      <td>0.487</td>\n",
       "      <td>0.476</td>\n",
       "      <td>0.462</td>\n",
       "      <td>0.465</td>\n",
       "      <td>0.469</td>\n",
       "      <td>0.465</td>\n",
       "      <td>0.495</td>\n",
       "      <td>0.502</td>\n",
       "      <td>0.466</td>\n",
       "    </tr>\n",
       "  </tbody>\n",
       "</table>\n",
       "<p>5 rows × 271 columns</p>\n",
       "</div>"
      ],
      "text/plain": [
       "year         1750  1751  1752  1753  1754  1755  1756  1757  1758  1759  ...  \\\n",
       "country                                                                  ...   \n",
       "Afghanistan   NaN   NaN   NaN   NaN   NaN   NaN   NaN   NaN   NaN   NaN  ...   \n",
       "Africa        NaN   NaN   NaN   NaN   NaN   NaN   NaN   NaN   NaN   NaN  ...   \n",
       "Albania       NaN   NaN   NaN   NaN   NaN   NaN   NaN   NaN   NaN   NaN  ...   \n",
       "Algeria       NaN   NaN   NaN   NaN   NaN   NaN   NaN   NaN   NaN   NaN  ...   \n",
       "Andorra       NaN   NaN   NaN   NaN   NaN   NaN   NaN   NaN   NaN   NaN  ...   \n",
       "\n",
       "year             2011      2012      2013      2014      2015      2016  \\\n",
       "country                                                                   \n",
       "Afghanistan    12.106    10.219     8.441     7.774     7.904     6.745   \n",
       "Africa       1258.709  1253.144  1260.316  1363.500  1322.735  1356.719   \n",
       "Albania         5.031     4.668     4.928     5.621     4.496     4.492   \n",
       "Algeria       119.808   128.111   132.435   142.529   149.683   148.929   \n",
       "Andorra         0.491     0.487     0.476     0.462     0.465     0.469   \n",
       "\n",
       "year             2017      2018      2019      2020  \n",
       "country                                              \n",
       "Afghanistan     6.860     8.345    12.147    12.160  \n",
       "Africa       1384.372  1385.645  1408.479  1326.044  \n",
       "Albania         5.302     4.734     4.863     4.535  \n",
       "Algeria       154.936   161.487   166.642   154.995  \n",
       "Andorra         0.465     0.495     0.502     0.466  \n",
       "\n",
       "[5 rows x 271 columns]"
      ]
     },
     "execution_count": 224,
     "metadata": {},
     "output_type": "execute_result"
    }
   ],
   "source": [
    "data_wide = data.pivot(\"country\", \"year\", \"co2\")\n",
    "data_wide.head()"
   ]
  },
  {
   "cell_type": "code",
   "execution_count": 243,
   "id": "4c9f4e75-c86c-4bdd-87ed-5e51e65a5fa7",
   "metadata": {},
   "outputs": [
    {
     "ename": "AttributeError",
     "evalue": "module 'pandas' has no attribute 'data_country_wise'",
     "output_type": "error",
     "traceback": [
      "\u001b[1;31m---------------------------------------------------------------------------\u001b[0m",
      "\u001b[1;31mAttributeError\u001b[0m                            Traceback (most recent call last)",
      "\u001b[1;32mC:\\Users\\SIDHAR~1\\AppData\\Local\\Temp/ipykernel_31060/3771996283.py\u001b[0m in \u001b[0;36m<module>\u001b[1;34m\u001b[0m\n\u001b[0;32m      5\u001b[0m \u001b[0msns\u001b[0m\u001b[1;33m.\u001b[0m\u001b[0mset_theme\u001b[0m\u001b[1;33m(\u001b[0m\u001b[0mstyle\u001b[0m\u001b[1;33m=\u001b[0m\u001b[1;34m\"whitegrid\"\u001b[0m\u001b[1;33m)\u001b[0m\u001b[1;33m\u001b[0m\u001b[1;33m\u001b[0m\u001b[0m\n\u001b[0;32m      6\u001b[0m \u001b[1;31m#country = pd.data_country_wise(\"country\")\u001b[0m\u001b[1;33m\u001b[0m\u001b[1;33m\u001b[0m\u001b[1;33m\u001b[0m\u001b[0m\n\u001b[1;32m----> 7\u001b[1;33m \u001b[0mdata_country_wise_line\u001b[0m \u001b[1;33m=\u001b[0m \u001b[0mpd\u001b[0m\u001b[1;33m.\u001b[0m\u001b[0mdata_country_wise\u001b[0m\u001b[1;33m(\u001b[0m\u001b[0mcountry\u001b[0m\u001b[1;33m,\u001b[0m \u001b[0mcolumns\u001b[0m\u001b[1;33m=\u001b[0m\u001b[1;33m[\u001b[0m\u001b[1;34m\"co2_per_capita\"\u001b[0m\u001b[1;33m,\u001b[0m \u001b[1;34m\"cement_co2_per_capita\"\u001b[0m\u001b[1;33m,\u001b[0m \u001b[1;34m\"other_co2_per_capita\"\u001b[0m\u001b[1;33m,\u001b[0m \u001b[1;34m\"flaring_co2_per_capita\"\u001b[0m\u001b[1;33m,\u001b[0m \u001b[1;34m\"flaring_co2_per_capita\"\u001b[0m\u001b[1;33m,\u001b[0m \u001b[1;34m\"gas_co2_per_capita\"\u001b[0m\u001b[1;33m,\u001b[0m \u001b[1;34m\"oil_co2_per_capita\"\u001b[0m\u001b[1;33m]\u001b[0m\u001b[1;33m)\u001b[0m\u001b[1;33m\u001b[0m\u001b[1;33m\u001b[0m\u001b[0m\n\u001b[0m\u001b[0;32m      8\u001b[0m \u001b[1;31m#data = data.rolling(7).mean()\u001b[0m\u001b[1;33m\u001b[0m\u001b[1;33m\u001b[0m\u001b[1;33m\u001b[0m\u001b[0m\n\u001b[0;32m      9\u001b[0m \u001b[0msns\u001b[0m\u001b[1;33m.\u001b[0m\u001b[0mlineplot\u001b[0m\u001b[1;33m(\u001b[0m\u001b[0mdata\u001b[0m\u001b[1;33m=\u001b[0m\u001b[0mdata_country_wise_line\u001b[0m\u001b[1;33m,\u001b[0m \u001b[0mpalette\u001b[0m\u001b[1;33m=\u001b[0m\u001b[1;34m\"tab10\"\u001b[0m\u001b[1;33m,\u001b[0m \u001b[0mlinewidth\u001b[0m\u001b[1;33m=\u001b[0m\u001b[1;36m2.5\u001b[0m\u001b[1;33m)\u001b[0m\u001b[1;33m\u001b[0m\u001b[1;33m\u001b[0m\u001b[0m\n",
      "\u001b[1;32m~\\anaconda3\\lib\\site-packages\\pandas\\__init__.py\u001b[0m in \u001b[0;36m__getattr__\u001b[1;34m(name)\u001b[0m\n\u001b[0;32m    242\u001b[0m         \u001b[1;32mreturn\u001b[0m \u001b[0m_SparseArray\u001b[0m\u001b[1;33m\u001b[0m\u001b[1;33m\u001b[0m\u001b[0m\n\u001b[0;32m    243\u001b[0m \u001b[1;33m\u001b[0m\u001b[0m\n\u001b[1;32m--> 244\u001b[1;33m     \u001b[1;32mraise\u001b[0m \u001b[0mAttributeError\u001b[0m\u001b[1;33m(\u001b[0m\u001b[1;34mf\"module 'pandas' has no attribute '{name}'\"\u001b[0m\u001b[1;33m)\u001b[0m\u001b[1;33m\u001b[0m\u001b[1;33m\u001b[0m\u001b[0m\n\u001b[0m\u001b[0;32m    245\u001b[0m \u001b[1;33m\u001b[0m\u001b[0m\n\u001b[0;32m    246\u001b[0m \u001b[1;33m\u001b[0m\u001b[0m\n",
      "\u001b[1;31mAttributeError\u001b[0m: module 'pandas' has no attribute 'data_country_wise'"
     ]
    }
   ],
   "source": []
  },
  {
   "cell_type": "code",
   "execution_count": 337,
   "id": "57cf6827-2919-4971-98b4-1764a9a08ca2",
   "metadata": {},
   "outputs": [],
   "source": []
  },
  {
   "cell_type": "code",
   "execution_count": null,
   "id": "ab3c5f9e-9de3-4348-9177-fdc7d9f58052",
   "metadata": {},
   "outputs": [],
   "source": []
  },
  {
   "cell_type": "code",
   "execution_count": null,
   "id": "5eb23748-9c73-41ac-83f3-ea3187a04441",
   "metadata": {},
   "outputs": [],
   "source": []
  },
  {
   "cell_type": "code",
   "execution_count": null,
   "id": "4d3d9d9a-3ba3-4683-93d3-d99e291b531c",
   "metadata": {},
   "outputs": [],
   "source": [
    "\n"
   ]
  },
  {
   "cell_type": "code",
   "execution_count": null,
   "id": "2384e318-6cce-4dce-9a2e-a4e7ad5b13bc",
   "metadata": {},
   "outputs": [],
   "source": []
  }
 ],
 "metadata": {
  "kernelspec": {
   "display_name": "Python 3 (ipykernel)",
   "language": "python",
   "name": "python3"
  },
  "language_info": {
   "codemirror_mode": {
    "name": "ipython",
    "version": 3
   },
   "file_extension": ".py",
   "mimetype": "text/x-python",
   "name": "python",
   "nbconvert_exporter": "python",
   "pygments_lexer": "ipython3",
   "version": "3.8.12"
  }
 },
 "nbformat": 4,
 "nbformat_minor": 5
}
